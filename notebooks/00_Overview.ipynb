{
 "cells": [
  {
   "cell_type": "markdown",
   "metadata": {},
   "source": [
    "# Workflow Examples and Demonstrations\n",
    "\n",
    "### I: [Compositional Data](./01_Compositional_Data.ipynb)\n",
    "\n",
    "### II: [Data Compilation](./02_Compilation.ipynb)\n",
    "\n",
    "### III: [Mineral Formulae Recalcuation](./04_Mineral_Recalculation.ipynb)\n",
    "\n",
    "### IV: [Preprocessing Geochemistry for Machine Learning](./03_Geochem_for_ML.ipynb)"
   ]
  }
 ],
 "metadata": {
  "kernelspec": {
   "display_name": "Python 3",
   "language": "python",
   "name": "python3"
  },
  "language_info": {
   "codemirror_mode": {
    "name": "ipython",
    "version": 3
   },
   "file_extension": ".py",
   "mimetype": "text/x-python",
   "name": "python",
   "nbconvert_exporter": "python",
   "pygments_lexer": "ipython3",
   "version": "3.7.7"
  }
 },
 "nbformat": 4,
 "nbformat_minor": 4
}

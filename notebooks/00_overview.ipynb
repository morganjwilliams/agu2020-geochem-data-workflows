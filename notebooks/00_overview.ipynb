{
 "cells": [
  {
   "cell_type": "markdown",
   "metadata": {},
   "source": [
    "# Workflow Examples and Demonstrations\n",
    "\n",
    "This repository hosts a series of short examples of how `pyrolite` can help facilitate more reproducible geochemical workflows. It is a complement to the poster ['Reproducible Geochemical Data Analysis Workflows with pyrolite'](https://agu2020fallmeeting-agu.ipostersessions.com/Default.aspx?s=42-9E-24-B9-AC-90-B8-F1-8C-2F-3D-47-16-C7-9F-D1) for the AGU 2020 Fall Meeting session ED023 - Lowering the Coding Hurdle: Geochemical Data Science with Jupyter and RStudio (note you'll need to be registered to see the live poster). We've included a copy of the abstract below for quick reference.\n",
    "\n",
    "<img src=\"https://pyrolite.readthedocs.io/en/master/_static/icon.png\" style=\"display:inline; float: right; margin: 0px 15px 15px 0px;\" width=\"25%\"/>\n",
    "\n",
    "### Abstract: Reproducible Geochemical Data Workflows with pyrolite\n",
    "\n",
    "<em>\n",
    "    <b>Morgan Williams</b>, Louise Schoneveld, Jens Klump\n",
    "</em>\n",
    "\n",
    "With growing volumes of open data, geochemists are increasingly able to use data-driven approaches to investigate geological processes. The adoption of high-level programming languages and common frameworks (e.g. the Jupyter ecosystem) provides opportunities to address reproducibility challenges, including through the sharing of workflows, analyses and tools. However, a relative scarcity of geochemistry-focused tools adds to the need for  developing appropriate skills. In this presentation we describe and demonstrate the use of  ‘pyrolite’, an open source Python package which provides tools for geochemical data processing, transformation and visualization.\n",
    "\n",
    "pyrolite provides reusable components and functions for geochemical data analysis workflows. It encourages researchers to conduct more robust statistical analysis of geochemical datasets (e.g. via log-transforms for compositional data), make use of novel algorithms, and get started with machine learning. The packaging and [documentation](https://pyrolite.readthedocs.io) of these tools and functions allows them to be more easily tested and verified, shared, versioned and referenced; all of these aspects contribute to the repeatability and reproducibility of associated workflows. Through pyrolite and related packages, we hope to make data-driven approaches to geochemistry readily accessible, and easier to get started with. Here we provide a series of examples of using pyrolite in data processing and exploratory data analysis workflows, illustrating how it can readily be integrated with other scientific Python packages for flexibility and customization. \n",
    "\n",
    "<img src=\"https://upload.wikimedia.org/wikipedia/commons/thumb/3/38/Jupyter_logo.svg/518px-Jupyter_logo.svg.png\" style=\"display:inline; float: right; margin: 20px 10px 10px 20px;\" width=\"15%\"/>\n",
    "\n",
    "#### New to Jupyter?\n",
    "\n",
    "If you're new to Jupyter, the main thing you'll need to know for this set of notebooks is that you can use `Shift+Enter` to execute cells of code (or press the 'play' button). This notebook should have launched in Jupyter Lab if you've come via the poster or binder link; this is an interface which provides a file browser to your left, a main workspace (if you're reading this, the space occupied by this notebook) and organises separate open notebooks in tabs (see above this cell). If you'd like a more detailed overview of the Jupyter interface, you can check out [the respective documentation](https://jupyterlab.readthedocs.io/en/stable/user/interface.html).\n",
    "\n",
    "## Notebook Examples\n",
    "\n",
    "----\n",
    "### I : [Data 'Munging'](./01_munging.ipynb)\n",
    "\n",
    "In this notebook we'll go through some of the tasks which pyrolite can help make a bit easier with respect to creating tidily formatted datasets and getting your data analysis ready.\n",
    "\n",
    "----\n",
    "\n",
    "### II: [Handling Compositional Data](./02_Compositional_Data.ipynb)\n",
    "\n",
    "In this notebook we'll look at how failing to account for the compositional nature of geochemical data can provide more biased statistical estimates. We'll also show how to access the pyrolite functions for logratio transformations which allow more robust statistical analysis of these data, and highlight some pitfalls and challenges which exist.\n",
    "\n",
    "----\n",
    "\n",
    "### III: [Geochemistry for Machine Learning Pipelines](./03_Geochem_for_ML.ipynb)\n",
    "\n",
    "In this notebook we'll provide a simple example of preprocessing some geochemical data for use in a classification workflow.\n",
    "\n",
    "----"
   ]
  },
  {
   "cell_type": "code",
   "execution_count": null,
   "metadata": {},
   "outputs": [],
   "source": []
  }
 ],
 "metadata": {
  "kernelspec": {
   "display_name": "Python 3",
   "language": "python",
   "name": "python3"
  },
  "language_info": {
   "codemirror_mode": {
    "name": "ipython",
    "version": 3
   },
   "file_extension": ".py",
   "mimetype": "text/x-python",
   "name": "python",
   "nbconvert_exporter": "python",
   "pygments_lexer": "ipython3",
   "version": "3.7.7"
  }
 },
 "nbformat": 4,
 "nbformat_minor": 4
}

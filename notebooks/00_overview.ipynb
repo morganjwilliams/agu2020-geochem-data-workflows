{
 "cells": [
  {
   "cell_type": "markdown",
   "metadata": {},
   "source": [
    "# Workflow Examples and Demonstrations\n",
    "\n",
    "\n",
    "### New to Jupyter?\n",
    "\n"
   ]
  },
  {
   "cell_type": "markdown",
   "metadata": {},
   "source": [
    "### I : [Data 'Munging'](./01_munging.ipnb)\n",
    "\n",
    "### II: [Compositional Data](./02_Compositional_Data.ipynb)\n",
    "\n",
    "### III: [Preprocessing Geochemistry for Machine Learning](./03_Geochem_for_ML.ipynb)\n"
   ]
  },
  {
   "cell_type": "code",
   "execution_count": null,
   "metadata": {},
   "outputs": [],
   "source": []
  }
 ],
 "metadata": {
  "kernelspec": {
   "display_name": "Python 3",
   "language": "python",
   "name": "python3"
  },
  "language_info": {
   "codemirror_mode": {
    "name": "ipython",
    "version": 3
   },
   "file_extension": ".py",
   "mimetype": "text/x-python",
   "name": "python",
   "nbconvert_exporter": "python",
   "pygments_lexer": "ipython3",
   "version": "3.7.7"
  }
 },
 "nbformat": 4,
 "nbformat_minor": 4
}
